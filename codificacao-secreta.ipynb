{
  "nbformat": 4,
  "nbformat_minor": 0,
  "metadata": {
    "colab": {
      "provenance": [],
      "authorship_tag": "ABX9TyPakBPNh0j83eBKN0bwgjwz",
      "include_colab_link": true
    },
    "kernelspec": {
      "name": "python3",
      "display_name": "Python 3"
    },
    "language_info": {
      "name": "python"
    }
  },
  "cells": [
    {
      "cell_type": "markdown",
      "metadata": {
        "id": "view-in-github",
        "colab_type": "text"
      },
      "source": [
        "<a href=\"https://colab.research.google.com/github/Matheus689/codificacao-secreta.py/blob/main/codificacao-secreta.ipynb\" target=\"_parent\"><img src=\"https://colab.research.google.com/assets/colab-badge.svg\" alt=\"Open In Colab\"/></a>"
      ]
    },
    {
      "cell_type": "markdown",
      "source": [
        "**parte 1**\n",
        "\n",
        "1) O que ord() faz em Python?\n",
        "R: A função ord() em Python retorna o valor Unicode (inteiro) de um caractere. Em outras palavras, ela converte um caractere (como uma letra, número ou símbolo) no número inteiro que o representa na tabela Unicode.\n",
        "\n",
        "2) O que chr() faz?\n",
        "R:A função chr() em Python faz o oposto de ord(): ela recebe um número inteiro (valor Unicode) e retorna o caractere correspondente.\n",
        "\n",
        "1.1)Como transformar uma string em uma lista de letras? (ex: list(\"texto\"))\n",
        "R:A forma mais simples de transformar uma string em uma lista de letras em Python é usando a função list(), Outras formas de fazer isso seria usando uma list comprehension:\n",
        "\n",
        "2.2) O que são f-strings? Dê um exemplo com variáveis.\n",
        "R:As f-strings são uma forma moderna e prática de formatar strings em Python elas permitem inserir variáveis diretamente dentro de uma string, usando chaves {} e prefixando a string com a letra f.\n",
        "\n",
        "Exemplo com variáveis:\n",
        "python\n",
        "Copiar\n",
        "Editar\n",
        "nome = \"João\"\n",
        "idade = 25\n",
        "\n",
        "mensagem = f\"Olá, meu nome é {nome} e eu tenho {idade} anos.\"\n",
        "print(mensagem)\n",
        "\n",
        "3)Como acessar letras específicas de uma string com índice (palavra[0], etc)?\n",
        "R:Em Python, strings são sequências (como listas), então você pode acessar letras específicas usando índices entre colchetes [].\n",
        "\n",
        "4)O que acontece se tentarmos acessar uma letra que não existe (ex: palavra[6] em uma palavra com só 4 letras)?\n",
        "R:Se você tentar acessar uma posição que não existe numa string (ou lista) em Python — como por exemplo palavra[6] quando a string só tem 4 letras — o Python vai lançar um erro chamado: IndexError\n",
        "\n",
        "5) O que é a  tabela ASCII.?\n",
        "R:Boa! A tabela ASCII é uma tabela que associa caracteres (letras, números, símbolos) a números inteiros. É uma das codificações de texto mais antigas usadas em computadores. Ela transforma caracteres em números, para que os computadores possam armazenar, processar e transmitir texto. Limitação:\n",
        "A tabela ASCII só tem 128 caracteres (de 0 a 127), ou seja, não inclui acentos nem emojis. Hoje em dia usamos o Unicode, que é mais completo e compatível com o ASCII — mas a base ainda é a mesma!"
      ],
      "metadata": {
        "id": "kx27GXBPMFyI"
      }
    },
    {
      "cell_type": "code",
      "source": [
        "palavra1 = input(\"Digite a primeira palavra (até 5 letras): \").lower()\n",
        "palavra2 = input(\"Digite a segunda palavra (até 5 letras): \").lower()\n",
        "palavra3 = input(\"Digite a terceira palavra (até 5 letras): \").lower()\n",
        "\n",
        "# Codificação manual de cada palavra\n",
        "# PALAVRA 1\n",
        "cod1_1 = chr(ord(palavra1[0]) + 1) if len(palavra1) > 0 else ''\n",
        "cod1_2 = chr(ord(palavra1[1]) + 1) if len(palavra1) > 1 else ''\n",
        "cod1_3 = chr(ord(palavra1[2]) + 1) if len(palavra1) > 2 else ''\n",
        "cod1_4 = chr(ord(palavra1[3]) + 1) if len(palavra1) > 3 else ''\n",
        "cod1_5 = chr(ord(palavra1[4]) + 1) if len(palavra1) > 4 else ''\n",
        "palavra1_codificada = cod1_1 + cod1_2 + cod1_3 + cod1_4 + cod1_5\n",
        "\n",
        "# PALAVRA 2\n",
        "cod2_1 = chr(ord(palavra2[0]) + 1) if len(palavra2) > 0 else ''\n",
        "cod2_2 = chr(ord(palavra2[1]) + 1) if len(palavra2) > 1 else ''\n",
        "cod2_3 = chr(ord(palavra2[2]) + 1) if len(palavra2) > 2 else ''\n",
        "cod2_4 = chr(ord(palavra2[3]) + 1) if len(palavra2) > 3 else ''\n",
        "cod2_5 = chr(ord(palavra2[4]) + 1) if len(palavra2) > 4 else ''\n",
        "palavra2_codificada = cod2_1 + cod2_2 + cod2_3 + cod2_4 + cod2_5\n",
        "\n",
        "# PALAVRA 3\n",
        "cod3_1 = chr(ord(palavra3[0]) + 1) if len(palavra3) > 0 else ''\n",
        "cod3_2 = chr(ord(palavra3[1]) + 1) if len(palavra3) > 1 else ''\n",
        "cod3_3 = chr(ord(palavra3[2]) + 1) if len(palavra3) > 2 else ''\n",
        "cod3_4 = chr(ord(palavra3[3]) + 1) if len(palavra3) > 3 else ''\n",
        "cod3_5 = chr(ord(palavra3[4]) + 1) if len(palavra3) > 4 else ''\n",
        "palavra3_codificada = cod3_1 + cod3_2 + cod3_3 + cod3_4 + cod3_5\n",
        "\n",
        "# Mensagem final\n",
        "mensagem = f\"🔐 Mensagem codificada: {palavra1_codificada} {palavra2_codificada} {palavra3_codificada}\"\n",
        "print(\"\\n\" + mensagem)\n",
        "\n",
        "# DESAFIO EXTRA: Decodificação\n",
        "entrada_codificada = input(\"Digite uma palavra codificada para decodificar (até 5 letras): \").lower()\n",
        "\n",
        "# Decodificação manual\n",
        "dec1 = chr(ord(entrada_codificada[0]) - 1) if len(entrada_codificada) > 0 else ''\n",
        "dec2 = chr(ord(entrada_codificada[1]) - 1) if len(entrada_codificada) > 1 else ''\n",
        "dec3 = chr(ord(entrada_codificada[2]) - 1) if len(entrada_codificada) > 2 else ''\n",
        "dec4 = chr(ord(entrada_codificada[3]) - 1) if len(entrada_codificada) > 3 else ''\n",
        "dec5 = chr(ord(entrada_codificada[4]) - 1) if len(entrada_codificada) > 4 else ''\n",
        "palavra_decodificada = dec1 + dec2 + dec3 + dec4 + dec5\n",
        "\n",
        "print(f\"🔓 Palavra decodificada: {palavra_decodificada}\")\n"
      ],
      "metadata": {
        "colab": {
          "base_uri": "https://localhost:8080/"
        },
        "id": "xdhBeYviLbNu",
        "outputId": "13c10e69-317b-4978-9775-6041b20a08dd"
      },
      "execution_count": null,
      "outputs": [
        {
          "output_type": "stream",
          "name": "stdout",
          "text": [
            "Digite a primeira palavra (até 5 letras): coisa\n",
            "Digite a segunda palavra (até 5 letras): texto\n",
            "Digite a terceira palavra (até 5 letras): quais\n",
            "\n",
            "🔐 Mensagem codificada: dpjtb ufyup rvbjt\n",
            "Digite uma palavra codificada para decodificar (até 5 letras): dpjtb\n",
            "🔓 Palavra decodificada: coisa\n"
          ]
        }
      ]
    }
  ]
}